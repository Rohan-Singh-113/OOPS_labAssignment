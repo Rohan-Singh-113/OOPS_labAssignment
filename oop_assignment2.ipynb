{
  "nbformat": 4,
  "nbformat_minor": 0,
  "metadata": {
    "colab": {
      "name": "oop_assignment2",
      "provenance": [],
      "authorship_tag": "ABX9TyNeSx3zgYK+OD3pm8LlUZiX",
      "include_colab_link": true
    },
    "kernelspec": {
      "name": "python3",
      "display_name": "Python 3"
    },
    "language_info": {
      "name": "python"
    }
  },
  "cells": [
    {
      "cell_type": "markdown",
      "metadata": {
        "id": "view-in-github",
        "colab_type": "text"
      },
      "source": [
        "<a href=\"https://colab.research.google.com/github/Rohan-Singh-113/OOPS_labAssignment/blob/main/oop_assignment2.ipynb\" target=\"_parent\"><img src=\"https://colab.research.google.com/assets/colab-badge.svg\" alt=\"Open In Colab\"/></a>"
      ]
    },
    {
      "cell_type": "code",
      "metadata": {
        "colab": {
          "base_uri": "https://localhost:8080/"
        },
        "id": "8nPZD5VrH6RO",
        "outputId": "27705f47-c90b-4151-9ea7-f8e19607a6b9"
      },
      "source": [
        "class circle:\n",
        "  def area(self, r):\n",
        "    a = 3.14*r*r\n",
        "    print(f\"Area = {a}\")\n",
        "  def preimeter(self, r):\n",
        "    p = 2*3.14*r\n",
        "    print(f\"Perimeter = {p}\")\n",
        "C1 = circle()\n",
        "r = int(input())\n",
        "C1.area(r)\n",
        "C1.preimeter(r)"
      ],
      "execution_count": null,
      "outputs": [
        {
          "output_type": "stream",
          "name": "stdout",
          "text": [
            "7\n",
            "Area = 153.86\n",
            "Perimeter = 43.96\n"
          ]
        }
      ]
    },
    {
      "cell_type": "code",
      "metadata": {
        "colab": {
          "base_uri": "https://localhost:8080/"
        },
        "id": "9gnG6GP3KtLa",
        "outputId": "c5551fd7-6c93-4afb-f717-a565a6e3e699"
      },
      "source": [
        "class data:\n",
        "  def __init__(self, name, id, brnch, salary):\n",
        "    self.name = name\n",
        "    self.id = id\n",
        "    self.branch = branch\n",
        "    self.salary = salary\n",
        "  def details(self):\n",
        "   print(f\"\"\"     Name: {self.name}\n",
        "          Emp ID: {self.id}\n",
        "          Branch: {self.branch}\n",
        "          Salary: {self.salary}\"\"\")\n",
        "print(\"Enter data of 5 Teachers: \")\n",
        "\n",
        "array = []\n",
        "for i in range(0,5):\n",
        "  name = input(\"Name: \")\n",
        "  id = int(input(\"ID: \"))\n",
        "  branch = input(\"Branch: \")\n",
        "  salary = int(input(\"Salary: \"))\n",
        "  print('\\n')\n",
        "  t = data(name, id, branch, salary)\n",
        "  array.append(t)\n",
        "\n",
        "for i in array:\n",
        "  i.details()\n"
      ],
      "execution_count": null,
      "outputs": [
        {
          "output_type": "stream",
          "name": "stdout",
          "text": [
            "Enter data of 5 Teachers: \n",
            "Name: Rohit\n",
            "ID: 121\n",
            "Branch: Cse\n",
            "Salary: 4500\n",
            "\n",
            "\n",
            "Name: Sunil\n",
            "ID: 112\n",
            "Branch: Ece\n",
            "Salary: 8400\n",
            "\n",
            "\n",
            "Name: Pappu\n",
            "ID: 114\n",
            "Branch: Cse\n",
            "Salary: 7400\n",
            "\n",
            "\n",
            "Name: Rishi\n",
            "ID: 104\n",
            "Branch: Ece\n",
            "Salary: 7800\n",
            "\n",
            "\n",
            "Name: Rahul\n",
            "ID: 117\n",
            "Branch: Cse\n",
            "Salary: 6200\n",
            "\n",
            "\n",
            "     Name: Rohit\n",
            "          Emp ID: 121\n",
            "          Branch: Cse\n",
            "          Salary: 4500\n",
            "     Name: Sunil\n",
            "          Emp ID: 112\n",
            "          Branch: Ece\n",
            "          Salary: 8400\n",
            "     Name: Pappu\n",
            "          Emp ID: 114\n",
            "          Branch: Cse\n",
            "          Salary: 7400\n",
            "     Name: Rishi\n",
            "          Emp ID: 104\n",
            "          Branch: Ece\n",
            "          Salary: 7800\n",
            "     Name: Rahul\n",
            "          Emp ID: 117\n",
            "          Branch: Cse\n",
            "          Salary: 6200\n"
          ]
        }
      ]
    },
    {
      "cell_type": "code",
      "metadata": {
        "colab": {
          "base_uri": "https://localhost:8080/"
        },
        "id": "PGI1aRzcLQAx",
        "outputId": "79009ae9-7a79-4ed2-a9ef-b81904a32627"
      },
      "source": [
        "class Account:\n",
        "  def details(self, acno, acho, amount):\n",
        "    self.acountno = acno\n",
        "    self.acountholdername = acho\n",
        "    self.amount = amount\n",
        "  def Deposit(self, acno):\n",
        "    if self.acountno == acno:\n",
        "      print(\"\"\"Login sucessfull\n",
        "      Enter amount to deposit: \"\"\")\n",
        "      amt = int(input())\n",
        "      self.amount = self.amount + amt\n",
        "      print(f\"{amt} deposited sucessfully.\")\n",
        "    else:\n",
        "      print(\"You entered wrong details.\")\n",
        "  def Withdraw(self, acno, acho):\n",
        "    if self.acountno == acno and self.acountholdername == acho:\n",
        "      print(\"\"\"Login Sucessfull\n",
        "      Enter Amount to withdraw: \"\"\")\n",
        "      amt = int(input())\n",
        "      if amt > self.amount:\n",
        "        print(\"Out of balance\")\n",
        "      else:\n",
        "        self.amount = self.amount - amt\n",
        "        print(f\"Withdrawn {amt} rupees\")\n",
        "    else:\n",
        "      print(\"You enterred wrong details.\")\n",
        "  def CheckBal(self, acno, acho ):\n",
        "    if self.acountno == acno and self.acountholdername == acho:\n",
        "      print(f\"Login sucessful, your account balance is {self.amount}\")  \n",
        "    else:\n",
        "      print(\"You entered wrong details.\")\n",
        "  def Displayac(self, anco):\n",
        "      print(f\"\"\" Your account details are:\n",
        "        Account Number: {self.acountno}\n",
        "        Account Holder name: {self.acountholdername}\n",
        "        Amount = {self.amount}\"\"\")\n",
        "\n",
        "P1 = Account()\n",
        "P1.details(111, \"Lalit\", 8500)\n",
        "P2 = Account()\n",
        "P2.details(112, \"Tutu\", 15000)\n",
        "P3 = Account()\n",
        "P3.details(113, \"Nitin\", 10000)\n",
        "P4 = Account()\n",
        "P4.details(114, \"Ashar\", 6600)\n",
        "P1.Deposit(111)\n",
        "P1.Displayac(111)\n",
        "P2.Withdraw(112, \"Tutu\")\n",
        "P2.Displayac(112)\n",
        "P3.CheckBal(113, \"Nitin\")\n",
        "P4.Displayac(114)"
      ],
      "execution_count": null,
      "outputs": [
        {
          "output_type": "stream",
          "name": "stdout",
          "text": [
            "Login sucessfull\n",
            "      Enter amount to deposit: \n",
            "2500\n",
            "2500 deposited sucessfully.\n",
            " Your account details are:\n",
            "        Account Number: 111\n",
            "        Account Holder name: Lalit\n",
            "        Amount = 11000\n",
            "Login Sucessfull\n",
            "      Enter Amount to withdraw: \n",
            "3200\n",
            "Withdrawn 3200 rupees\n",
            " Your account details are:\n",
            "        Account Number: 112\n",
            "        Account Holder name: Tutu\n",
            "        Amount = 11800\n",
            "Login sucessful, your account balance is 10000\n",
            " Your account details are:\n",
            "        Account Number: 114\n",
            "        Account Holder name: Ashar\n",
            "        Amount = 6600\n"
          ]
        }
      ]
    },
    {
      "cell_type": "code",
      "metadata": {
        "colab": {
          "base_uri": "https://localhost:8080/"
        },
        "id": "VSiIpzSJMwCc",
        "outputId": "8f54bd41-7f74-4f03-9dac-30f2e39f7512"
      },
      "source": [
        "class Student:\n",
        "  def details(self, name , usn, mark_eng, mark_maths , mark_science):\n",
        "    self.name = name\n",
        "    self.usn = usn\n",
        "    self.mark_eng = mark_eng\n",
        "    self.mark_maths = mark_maths\n",
        "    self.mark_science = mark_science\n",
        "    self.nlist = [\"arun\", \"ram\"]\n",
        "    self.nlist.append(name)\n",
        "    self.Emarks = [87, 77]\n",
        "    self.Emarks.append(mark_eng)\n",
        "    self.Mmarks = [54, 53]\n",
        "    self.Mmarks.append(mark_maths)\n",
        "    self.Smarks = [66, 69]\n",
        "    self.Smarks.append(mark_science)\n",
        "  def display(self, name, nlist, usn, Emarks, Mmarks, Smarks):\n",
        "    for i in range(0,3):\n",
        "      if name == nlist[i]:\n",
        "        print(f\"Name = {nlist[i]},  USN = {usn} ,  Marks in English = {Emarks[i]} ,  Marks in Maths = {Mmarks[i]} ,  Marks in Science = {Smarks[i]}\")\n",
        "        exit\n",
        "      \n",
        "a1 = Student()\n",
        "a1.details(\"Lalit\", 123, 82, 73, 59)\n",
        "a1.display(\"Lalit\", a1.nlist, a1.usn, a1.Emarks, a1.Mmarks, a1.Smarks)"
      ],
      "execution_count": null,
      "outputs": [
        {
          "output_type": "stream",
          "name": "stdout",
          "text": [
            "Name = Lalit,  USN = 123 ,  Marks in English = 82 ,  Marks in Maths = 73 ,  Marks in Science = 59\n"
          ]
        }
      ]
    },
    {
      "cell_type": "code",
      "metadata": {
        "colab": {
          "base_uri": "https://localhost:8080/"
        },
        "id": "TjTOhw3lOaok",
        "outputId": "7c2216a6-632e-4bc8-e05a-bbfa4036e3f7"
      },
      "source": [
        "class Patient:\n",
        "  def __init__(self):\n",
        "    self.name = input(\"Name: \")\n",
        "    self.admit_date = input(\"Admit Date(dd/mm/yy): \")\n",
        "    i = int(input(\"Enter no of symptoms: \"))\n",
        "    self.symptom = []\n",
        "    self.gnum = 0\n",
        "    self.onum = 0\n",
        "    for j in range(1,i+1):\n",
        "      temp = input(f\"symptom {j}: \")\n",
        "      self.symptom.append(temp)\n",
        "    self.oxy = int(input(\"oxygen level: \"))\n",
        "    self.dis_date = input(\"Discharge Date(dd/mm/yy): \")\n",
        "  def ward(self):\n",
        "    if self.oxy <90:\n",
        "      print(\"Shift patient to ICU and keep on Oxygen\")\n",
        "      self.onum = self.onum + 1\n",
        "    else:\n",
        "      print(\"Patient's health is normal shift him to General Ward\")\n",
        "      self.gnum = self.gnum + 1\n",
        "  def patient_num(self):\n",
        "    print(f\"Patient in General ward are : {self.gnum}.\")\n",
        "    print(f\"Total Patients admitted are: {self.onum+self.gnum}.\")\n",
        "  def display(self):\n",
        "    print(f\"Patient Name: {self.name}  Patient's date of admit: {self.admit_date}   Patient's symptoms: {self.symptom}    Patient's Oxygen Level: {self.oxy}   Patient's date of discharge: {self.dis_date}\")\n",
        "\n",
        "p1= Patient()\n",
        "p1.display()\n",
        "p1.ward()\n",
        "p1.patient_num()\n"
      ],
      "execution_count": null,
      "outputs": [
        {
          "output_type": "stream",
          "name": "stdout",
          "text": [
            "Name: Lalit\n",
            "Admit Date(dd/mm/yy): 25/05/21\n",
            "Enter no of symptoms: 1\n",
            "symptom 1: Malaria\n",
            "oxygen level: 88\n",
            "Discharge Date(dd/mm/yy): 30/05/21\n",
            "Patient Name: Lalit  Patient's date of admit: 25/05/21   Patient's symptoms: ['Malaria']    Patient's Oxygen Level: 88   Patient's date of discharge: 30/05/21\n",
            "Shift patient to ICU and keep on Oxygen\n",
            "Patient in General ward are : 0.\n",
            "Total Patients admitted are: 1.\n"
          ]
        }
      ]
    },
    {
      "cell_type": "code",
      "metadata": {
        "colab": {
          "base_uri": "https://localhost:8080/"
        },
        "id": "mysQvJ8mOcFz",
        "outputId": "0c25495a-e5fb-43e5-b568-85bcce0f9094"
      },
      "source": [
        "class Time:\n",
        "  def __init__(self):\n",
        "    self.hours = int(input(\"Enter hours: \"))\n",
        "    self.minutes = int(input(\"Minutes: \"))\n",
        "    self. seconds = int(input(\"Seconds:  \"))\n",
        "\n",
        "  def display_time(self):\n",
        "    if self.hours > 9:\n",
        "      print(\"{0}:\".format(self.hours), end='')\n",
        "    else:\n",
        "      print(\"0{0}:\".format(self.hours), end='')\n",
        "    if self.minutes > 9:\n",
        "      print(\"{0}:\".format(self.minutes), end='')\n",
        "    else:\n",
        "      print(\"0{0}:\".format(self.minutes), end='')\n",
        "    if self.seconds > 9:\n",
        "      print(\"{0}\".format(self.seconds), end='')\n",
        "    else:\n",
        "      print(\"0{0}\".format(self.seconds), end='')\n",
        "\n",
        "t = Time()\n",
        "t.display_time()\n"
      ],
      "execution_count": null,
      "outputs": [
        {
          "output_type": "stream",
          "name": "stdout",
          "text": [
            "Enter hours: 2\n",
            "Minutes: 41\n",
            "Seconds:  23\n",
            "02:41:23"
          ]
        }
      ]
    },
    {
      "cell_type": "code",
      "metadata": {
        "colab": {
          "base_uri": "https://localhost:8080/"
        },
        "id": "OhhmCvdoPBee",
        "outputId": "5d102c85-be7e-4a64-9c2f-a5da3ebdd540"
      },
      "source": [
        "class student:\n",
        "\n",
        "  def __init__(self, name, age, roll):\n",
        "    self.name = name\n",
        "    self.age = age\n",
        "    self.roll = roll  \n",
        "\n",
        "student1 = student(\"rahul\", 21, 33)\n",
        "student2 = student(\"rohit\", 22, 74) \n",
        "#function\n",
        "def comp():\n",
        "  if student1.age == student2.age:\n",
        "    print(\"the ages of two students are equal\")\n",
        "  else:\n",
        "    print(\"the ages are not equal\")\n",
        " \n",
        "comp()\n"
      ],
      "execution_count": null,
      "outputs": [
        {
          "output_type": "stream",
          "name": "stdout",
          "text": [
            "the ages are not equal\n"
          ]
        }
      ]
    },
    {
      "cell_type": "code",
      "metadata": {
        "colab": {
          "base_uri": "https://localhost:8080/"
        },
        "id": "nF7gO2i7PZ8S",
        "outputId": "5283f2f0-34de-4140-c0c1-a0339fc35f47"
      },
      "source": [
        "class Student:\n",
        "  institute = \"IIIT Dharwad\"\n",
        "  semester = 3\n",
        "  def __init__(self):\n",
        "    self.name = input(\"Name: \")\n",
        "    self.USN = int(input(\"USN: \"))\n",
        "\n",
        "  def display_instance(self):\n",
        "    print(f\"Name: {self.name}   USN: {self.USN} \")\n",
        "  \n",
        "  def display_class(self):\n",
        "    print(f\"Institute name: {self.institute}   Semester: {self.semester}\")\n",
        "\n",
        "def explanation():\n",
        "  print(f\"It has 2 class variables - Institute and Semester, 2 instance variables - name and USN, 1 class method - printClass and 1 instance method - printInstance. Instance methods use the instance variables, whereas class methods use the class variables.\")\n",
        "\n",
        "std1 = Student()\n",
        "std1.display_class()\n",
        "std1.display_instance()\n",
        "explanation()\n"
      ],
      "execution_count": null,
      "outputs": [
        {
          "output_type": "stream",
          "name": "stdout",
          "text": [
            "Name: Lalit\n",
            "USN: 112\n",
            "Institute name: IIIT Dharwad   Semester: 3\n",
            "Name: Lalit   USN: 112 \n",
            "It has 2 class variables - Institute and Semester, 2 instance variables - name and USN, 1 class method - printClass and 1 instance method - printInstance. Instance methods use the instance variables, whereas class methods use the class variables.\n"
          ]
        }
      ]
    },
    {
      "cell_type": "code",
      "metadata": {
        "colab": {
          "base_uri": "https://localhost:8080/"
        },
        "id": "gGIq6zscP-kh",
        "outputId": "0c93c4d8-39cd-478d-82f1-6e3295ecbb46"
      },
      "source": [
        "class Student:\n",
        "\n",
        "  def __init__(self):\n",
        "    self.name = input(\"Enter name: \")\n",
        "    self.roll_no = input(\"Roll No.: \")\n",
        "    self.sem = input(\"Semester: \")\n",
        "    self.lappi1 = self.laptop1(\"intel\", \"32 gb\", \"512 gb\")\n",
        "    self.lappi2 = self.laptop2(\"ryzen\", \"16 gb\", \"2 Tb\")\n",
        "\n",
        "  def display(self):\n",
        "    print(\"name of student is: \", self.name)\n",
        "    print(\"roll no. of student is: \", self.roll_no)\n",
        "    print(\"semester of student is: \", self.sem)\n",
        "\n",
        "  class laptop1:\n",
        "\n",
        "    def __init__(self, name, ram, hard_disc):\n",
        "      self.cpu = name\n",
        "      self.ram = ram\n",
        "      self.hard_disk = hard_disc\n",
        "\n",
        "    def display_inner1(self):\n",
        "      print(\"chip used in cpu is: \", self.cpu)\n",
        "      print(\"ram capacity is: \", self.ram)\n",
        "      print(\"hard_disk capacity is: \", self.hard_disk)\n",
        " \n",
        "  class laptop2: \n",
        "\n",
        "    def __init__(self, name, ram, hard_disc):\n",
        "      self.cpu = name\n",
        "      self.ram = ram\n",
        "      self.hard_disk = hard_disc\n",
        "    \n",
        "    def display_inner2(self):\n",
        "      print(f\"chip used in cpu is:  {self.cpu}\")\n",
        "      print(f\"ram capacity is: {self.ram}\")\n",
        "      print(f\"hard_disk capacity is:  {self.hard_disk}\")      \n",
        "\n",
        "student1 = Student()\n",
        "student1.display() \n",
        "\n",
        "print(\"\\n\")\n",
        "\n",
        "l1 = student1.lappi1\n",
        "l1.display_inner1()\n",
        "\n",
        "print(\"\\n\")\n",
        "\n",
        "l2 = student1.lappi2\n",
        "l2.display_inner2()\n"
      ],
      "execution_count": null,
      "outputs": [
        {
          "output_type": "stream",
          "name": "stdout",
          "text": [
            "Enter name: Lalit\n",
            "Roll No.: 112\n",
            "Semester: 3\n",
            "name of student is:  Lalit\n",
            "roll no. of student is:  112\n",
            "semester of student is:  3\n",
            "\n",
            "\n",
            "chip used in cpu is:  intel\n",
            "ram capacity is:  32 gb\n",
            "hard_disk capacity is:  512 gb\n",
            "\n",
            "\n",
            "chip used in cpu is:  ryzen\n",
            "ram capacity is: 16 gb\n",
            "hard_disk capacity is:  2 Tb\n"
          ]
        }
      ]
    }
  ]
}