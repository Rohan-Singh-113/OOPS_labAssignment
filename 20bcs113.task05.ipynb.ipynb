{
  "nbformat": 4,
  "nbformat_minor": 0,
  "metadata": {
    "colab": {
      "name": "Untitled16.ipynb",
      "provenance": []
    },
    "kernelspec": {
      "name": "python3",
      "display_name": "Python 3"
    },
    "language_info": {
      "name": "python"
    }
  },
  "cells": [
    {
      "cell_type": "code",
      "metadata": {
        "colab": {
          "base_uri": "https://localhost:8080/"
        },
        "id": "XSJyTdtAR_gJ",
        "outputId": "ac2cc0d9-8803-4865-e1e4-b6924b734140"
      },
      "source": [
        "#Question 1\n",
        "class Shape:\n",
        "  def __init__(self):\n",
        "    self.variable = 0\n",
        "class Circle(Shape):\n",
        "  def area(self, variable):\n",
        "    self.variable = variable\n",
        "    print(f\"Area of Circle is: {3.14*self.variable*self.variable}\")\n",
        "class Square(Shape):\n",
        "  def area(self,variable):\n",
        "    self.variable = variable\n",
        "    print(f\"Area of Square is: {self.variable * self.variable}\")\n",
        "class Rectangle(Shape):\n",
        "  def area(self,variable, variable2):\n",
        "    self.variable = variable\n",
        "    self.variable2 = variable2\n",
        "    print(f\"Area of Recangle is: {self.variable * self.variable2}\")\n",
        "c1 = Circle()\n",
        "c1.area(10)\n",
        "s1 = Square()\n",
        "s1.area(10)\n",
        "r1 = Rectangle()\n",
        "r1.area(5,10)"
      ],
      "execution_count": 3,
      "outputs": [
        {
          "output_type": "stream",
          "name": "stdout",
          "text": [
            "Area of Circle is: 314.0\n",
            "Area of Square is: 100\n",
            "Area of Recangle is: 50\n"
          ]
        }
      ]
    },
    {
      "cell_type": "code",
      "metadata": {
        "colab": {
          "base_uri": "https://localhost:8080/"
        },
        "id": "cLyIeatfSBI-",
        "outputId": "b2d0315d-1d22-4cbf-9aa0-2749dda63af5"
      },
      "source": [
        "#Question-2\n",
        "class Travel:\n",
        "  def __init__(self):\n",
        "    self._nump = 100\n",
        "    self.distance = 1000\n",
        "    mode = \"1. Train \\n 2. Bus\"\n",
        "class Train(Travel):\n",
        "  def __init__(self):\n",
        "    Travel.__init__(self)\n",
        "    price = 60\n",
        "    print(f\"Total travel cost by Train is {price * self._nump * self.distance} rupees.\")\n",
        "class Bus(Travel):\n",
        "  def __init__(self):\n",
        "    Travel.__init__(self)\n",
        "    price = 100\n",
        "    print(f\"Total travel cost by Bus is {price * self._nump * self.distance} rupees.\")\n",
        "\n",
        "p1 = Train()\n",
        "p2 = Bus()"
      ],
      "execution_count": 2,
      "outputs": [
        {
          "output_type": "stream",
          "name": "stdout",
          "text": [
            "Total travel cost by Train is 6000000 rupees.\n",
            "Total travel cost by Bus is 10000000 rupees.\n"
          ]
        }
      ]
    },
    {
      "cell_type": "code",
      "metadata": {
        "colab": {
          "base_uri": "https://localhost:8080/"
        },
        "id": "laI53isoR56j",
        "outputId": "027efdc4-0dbf-49d4-c6fe-0374489196dc"
      },
      "source": [
        "#Question-3\n",
        "class Car:\n",
        "  def __init__(self, modelnum):\n",
        "    self.modelnum = modelnum\n",
        "  def __add__(self, second):\n",
        "    t = self.modelnum\n",
        "    self.modelnum = second.modelnum\n",
        "    second.modelnum= t\n",
        "\n",
        "car1 = Car(1)\n",
        "car2 = Car(2)\n",
        "car1 + car2\n",
        "print(f\"Model number of car1 is: {car1.modelnum}\")\n",
        "print(f\"Model number of car2 is: {car2.modelnum}\")"
      ],
      "execution_count": 4,
      "outputs": [
        {
          "output_type": "stream",
          "name": "stdout",
          "text": [
            "Model number of car1 is: 2\n",
            "Model number of car2 is: 1\n"
          ]
        }
      ]
    }
  ]
}