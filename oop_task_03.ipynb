{
  "nbformat": 4,
  "nbformat_minor": 0,
  "metadata": {
    "colab": {
      "name": "oop_task_03",
      "provenance": [],
      "authorship_tag": "ABX9TyOp6Mn6Z50jgs1frzYTqHrX",
      "include_colab_link": true
    },
    "kernelspec": {
      "name": "python3",
      "display_name": "Python 3"
    },
    "language_info": {
      "name": "python"
    }
  },
  "cells": [
    {
      "cell_type": "markdown",
      "metadata": {
        "id": "view-in-github",
        "colab_type": "text"
      },
      "source": [
        "<a href=\"https://colab.research.google.com/github/Rohan-Singh-113/OOPS_labAssignment/blob/main/oop_task_03.ipynb\" target=\"_parent\"><img src=\"https://colab.research.google.com/assets/colab-badge.svg\" alt=\"Open In Colab\"/></a>"
      ]
    },
    {
      "cell_type": "code",
      "metadata": {
        "colab": {
          "base_uri": "https://localhost:8080/"
        },
        "id": "HCNlkQzrVhwX",
        "outputId": "f3cb4b14-7a13-49ab-9de2-a1bd5761fa7c"
      },
      "source": [
        "class Student:\n",
        "  def input_details(self, name, reg_no, age, gender, branch, sem):\n",
        "    self.name = name\n",
        "    self.reg_no = reg_no\n",
        "    self.age = age\n",
        "    self.gender = gender\n",
        "    self.branch = branch\n",
        "    self.sem = sem\n",
        "\n",
        "  def displaybasic(self):\n",
        "    print(f\"Name: {self.name} \\n Regestration Number: {self.reg_no} \\n Age: {self.age} \\n Gender: {self.gender} \\n Branch: {self.branch} \\n Sem: {self.sem} \\n\")\n",
        "class StudentResultInfo( Student ):\n",
        "  def __init__(self, totalmarks, percentage, grade):\n",
        "    self.total_marks = totalmarks\n",
        "    self.percentage = percentage\n",
        "    self.grade = grade\n",
        "  def displayfull(self):\n",
        "    print(f\"Total Marks: {self.total_marks} \\n Percentage: {self.percentage} \\n Grade: {self.grade}\")\n",
        "s1 = StudentResultInfo(445, 89, \"A\")\n",
        "s1.input_details(\"Ashmit\",\"20bcs100\", 20, \"Male\", \"CSE\", 3 )\n",
        "s1.displaybasic()\n",
        "s1.displayfull()\n"
      ],
      "execution_count": 3,
      "outputs": [
        {
          "output_type": "stream",
          "name": "stdout",
          "text": [
            "Name: Ashmit \n",
            " Regestration Number: 20bcs100 \n",
            " Age: 20 \n",
            " Gender: Male \n",
            " Branch: CSE \n",
            " Sem: 3 \n",
            "\n",
            "Total Marks: 445 \n",
            " Percentage: 89 \n",
            " Grade: A\n"
          ]
        }
      ]
    },
    {
      "cell_type": "code",
      "metadata": {
        "colab": {
          "base_uri": "https://localhost:8080/"
        },
        "id": "CZ4JQYjkWKN3",
        "outputId": "e3d47820-1475-4ed3-e1ae-b548463671a7"
      },
      "source": [
        "class Pdf:\n",
        "  def __init__(self, cr, dis, size):\n",
        "    self.created = cr\n",
        "    self.discription = dis\n",
        "    self.size = size\n",
        "\n",
        "  def display(self):\n",
        "    print(\"Created by:\",self.created)\n",
        "    print(\"Description:\", self.discription)\n",
        "    print(\"File size (in KBs):\", self.size)\n",
        "\n",
        "  def sizeLimit(self):\n",
        "    if self.size > 1024:         \n",
        "      print(\"Size exceeds threshold.\\n\")\n",
        "    else:\n",
        "      print(\"Size is within the threshold.\\n\")\n",
        "\n",
        "class Pic(Pdf):\n",
        "  def __init__(self, created, discription, size, dimension):\n",
        "    super().__init__(created, discription, size)\n",
        "    self.dimension = dimension\n",
        "\n",
        "  def dimensioninfo(self):\n",
        "    if self.dimension>256: \n",
        "      print(\"hIGH Dimension!\\n\")\n",
        "    else:\n",
        "      print(\"Image is good.\\n\")\n",
        "\n",
        "  def displaypixel(self):\n",
        "    self.display()\n",
        "    print(\"Dimensions (in pixels):\", self.dimension)\n",
        "\n",
        "  \n",
        "\n",
        "p1 = Pdf(\"Lalit\", \"i am from IIIT Dharwad\", 112)\n",
        "p1.display()\n",
        "p1.sizeLimit()\n",
        "print()\n",
        "img = Pic(\"Laddu\", \"i am foody because my name is laddu\", 111, 127)\n",
        "img.displaypixel()\n",
        "img.dimensioninfo()\n"
      ],
      "execution_count": 5,
      "outputs": [
        {
          "output_type": "stream",
          "name": "stdout",
          "text": [
            "Created by: Lalit\n",
            "Description: i am from IIIT Dharwad\n",
            "File size (in KBs): 112\n",
            "Size is within the threshold.\n",
            "\n",
            "\n",
            "Created by: Laddu\n",
            "Description: i am foody because my name is laddu\n",
            "File size (in KBs): 111\n",
            "Dimensions (in pixels): 127\n",
            "Image is good.\n",
            "\n"
          ]
        }
      ]
    },
    {
      "cell_type": "code",
      "metadata": {
        "colab": {
          "base_uri": "https://localhost:8080/"
        },
        "id": "opC2CNeeWvhJ",
        "outputId": "5cd31f72-f077-4b24-879f-0d558e2ab9d1"
      },
      "source": [
        "class Vehicle:\n",
        "  def __init__(self, n, m, c): \n",
        "    self.name = n\n",
        "    self.mileage = m\n",
        "    self.capacity = c\n",
        "\n",
        "  def fare(self):\n",
        "    return self.capacity*100\n",
        "\n",
        "class Bus(Vehicle):\n",
        "  def busFare(self):\n",
        "    return 1.1*self.fare()\n",
        "  def display(self):\n",
        "    print(f\"Name: {self.name} \\n Mileage: {self.mileage} \\n Capacity: {self.capacity}\")\n",
        "\n",
        "bus1 = Bus(\"BMW\", 8, 45)\n",
        "bus1.display()\n"
      ],
      "execution_count": 6,
      "outputs": [
        {
          "output_type": "stream",
          "name": "stdout",
          "text": [
            "Name: BMW \n",
            " Mileage: 8 \n",
            " Capacity: 45\n"
          ]
        }
      ]
    }
  ]
}