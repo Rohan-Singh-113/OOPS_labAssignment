{
  "nbformat": 4,
  "nbformat_minor": 0,
  "metadata": {
    "colab": {
      "name": "OOP.assignment1.ipynb",
      "provenance": [],
      "authorship_tag": "ABX9TyN3mv2Pf12LUZVRllZE5z6O",
      "include_colab_link": true
    },
    "kernelspec": {
      "name": "python3",
      "display_name": "Python 3"
    },
    "language_info": {
      "name": "python"
    }
  },
  "cells": [
    {
      "cell_type": "markdown",
      "metadata": {
        "id": "view-in-github",
        "colab_type": "text"
      },
      "source": [
        "<a href=\"https://colab.research.google.com/github/Rohan-Singh-113/OOPS_labAssignment/blob/main/OOP_assignment1.ipynb\" target=\"_parent\"><img src=\"https://colab.research.google.com/assets/colab-badge.svg\" alt=\"Open In Colab\"/></a>"
      ]
    },
    {
      "cell_type": "code",
      "metadata": {
        "colab": {
          "base_uri": "https://localhost:8080/"
        },
        "id": "sR0sX8F7MyCw",
        "outputId": "4ac2e95c-e2cf-4e37-8191-f23eaef5aec0"
      },
      "source": [
        "def leap(year):\n",
        "  if (year % 4) == 0:\n",
        "    if (year % 100) == 0:\n",
        "      if (year % 400) == 0:\n",
        "        return True\n",
        "      else:\n",
        "        return False\n",
        "    else:\n",
        "      return True\n",
        "  else:\n",
        "    return False\n",
        "year = int(input(\"year: \"))\n",
        "leap(year)"
      ],
      "execution_count": 10,
      "outputs": [
        {
          "name": "stdout",
          "output_type": "stream",
          "text": [
            "year: 1900\n"
          ]
        },
        {
          "output_type": "execute_result",
          "data": {
            "text/plain": [
              "False"
            ]
          },
          "metadata": {},
          "execution_count": 10
        }
      ]
    },
    {
      "cell_type": "code",
      "metadata": {
        "colab": {
          "base_uri": "https://localhost:8080/"
        },
        "id": "vRbY6H6PRNV0",
        "outputId": "3d6f6183-f50a-4ad4-d0fb-eda5c831b0a5"
      },
      "source": [
        "def nature(number):\n",
        "  if (number % 2 != 0):\n",
        "    print(\"Weird Number\")\n",
        "  elif (number % 2 == 0 and number in range(1, 6)):\n",
        "    print(\"Not Weird Number\")\n",
        "  elif (number % 2 == 0 and number in range(6, 20)):\n",
        "    print(\"Weird number\")\n",
        "  else:\n",
        "    print(\"Not Weird number\")\n",
        "number = int(input(\"number: \"))\n",
        "nature(number)"
      ],
      "execution_count": 11,
      "outputs": [
        {
          "output_type": "stream",
          "name": "stdout",
          "text": [
            "number: 18\n",
            "Weird number\n"
          ]
        }
      ]
    },
    {
      "cell_type": "code",
      "metadata": {
        "colab": {
          "base_uri": "https://localhost:8080/"
        },
        "id": "Jm0QVy0URVJb",
        "outputId": "4295852d-7b5a-4ff4-d57f-800d8331ea2a"
      },
      "source": [
        "def function():\n",
        "  size = int(input(\"Size of list: \"))\n",
        "  guest = []\n",
        "  for i in range(0, size):\n",
        "    data = input()\n",
        "    guest.append(data)\n",
        "  r = int((size-1)/2)\n",
        "  for i in range(r, size-1):\n",
        "     print(guest[i]+\" is fashionably late.\")\n",
        "\n",
        "function()"
      ],
      "execution_count": 12,
      "outputs": [
        {
          "output_type": "stream",
          "name": "stdout",
          "text": [
            "Size of list: 7\n",
            "hardik\n",
            "rahul\n",
            "virat\n",
            "rishab\n",
            "mahi\n",
            "rohit\n",
            "rahane\n",
            "rishab is fashionably late.\n",
            "mahi is fashionably late.\n",
            "rohit is fashionably late.\n"
          ]
        }
      ]
    },
    {
      "cell_type": "code",
      "metadata": {
        "colab": {
          "base_uri": "https://localhost:8080/"
        },
        "id": "ymItmJpLR96F",
        "outputId": "1589ed57-c2f3-4f6a-f80d-06d7eb9dd39c"
      },
      "source": [
        "from array import array\n",
        "def fun(n, val):\n",
        "  \n",
        "  filter = []\n",
        "  for i in range(0, n):\n",
        "    data = input()\n",
        "    filter.append(data)\n",
        "    #for i in range(n):\n",
        "    filter[i] = filter[i].lower()\n",
        "    if any(val in word for word in filter):\n",
        "      print(\" present\")\n",
        "    else:\n",
        "      print(\"not present\")\n",
        "\n",
        "size = int(input(\"Size of String: \"))\n",
        "val = input(\"Enter value to be searched in lower case: \")\n",
        "fun(size, val)"
      ],
      "execution_count": 13,
      "outputs": [
        {
          "output_type": "stream",
          "name": "stdout",
          "text": [
            "Size of String: 1\n",
            "Enter value to be searched in lower case: closed\n",
            "IIIT dharwad is closed\n",
            " present\n"
          ]
        }
      ]
    },
    {
      "cell_type": "code",
      "metadata": {
        "colab": {
          "base_uri": "https://localhost:8080/"
        },
        "id": "v2c0r97eSPPv",
        "outputId": "78930a0b-db5c-48bb-c29d-b8a5c9530b22"
      },
      "source": [
        "bp = int(input())\n",
        "da = 0.4*bp\n",
        "hra = 0.2*bp\n",
        "gp = bp+da+hra\n",
        "print(gp)"
      ],
      "execution_count": 14,
      "outputs": [
        {
          "output_type": "stream",
          "name": "stdout",
          "text": [
            "180\n",
            "288.0\n"
          ]
        }
      ]
    }
  ]
}