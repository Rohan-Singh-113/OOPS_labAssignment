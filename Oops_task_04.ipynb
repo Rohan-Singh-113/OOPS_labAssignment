{
  "nbformat": 4,
  "nbformat_minor": 0,
  "metadata": {
    "colab": {
      "name": "Untitled14.ipynb",
      "provenance": []
    },
    "kernelspec": {
      "name": "python3",
      "display_name": "Python 3"
    },
    "language_info": {
      "name": "python"
    }
  },
  "cells": [
    {
      "cell_type": "code",
      "metadata": {
        "colab": {
          "base_uri": "https://localhost:8080/"
        },
        "id": "qiSCIPYHyqK4",
        "outputId": "a9f777b3-c60b-4aaa-ab62-fa9822dfeb67"
      },
      "source": [
        "class Node:\n",
        "\n",
        "    def __init__(self,data):\n",
        "        self.data = data\n",
        "        self.next = None\n",
        "     \n",
        "class Stack:\n",
        "    def __init__(self):\n",
        "        self.head = None\n",
        "     \n",
        "    # Case(a)        Checks if stack is empty\n",
        "    def isempty(self):\n",
        "        if self.head == None:\n",
        "            return True\n",
        "        else:\n",
        "            return False\n",
        "\n",
        "    # Case(b)        add data to stack(at begining)\n",
        "    def push(self,data):\n",
        "        if self.head == None:\n",
        "            self.head=Node(data)\n",
        "             \n",
        "        else:\n",
        "            newnode = Node(data)\n",
        "            newnode.next = self.head\n",
        "            self.head = newnode\n",
        "    # Case(c) Delete data from the stack.\n",
        "    def pop(self):\n",
        "         \n",
        "        if self.isempty():\n",
        "            return None\n",
        "             \n",
        "        else:\n",
        "            # Removes the head node and makes\n",
        "            #the preceeding one the new head\n",
        "            poppednode = self.head\n",
        "            self.head = self.head.next\n",
        "            poppednode.next = None\n",
        "            return poppednode.data\n",
        "     \n",
        "    # Returns the head node data\n",
        "    def peek(self):\n",
        "         \n",
        "        if self.isempty():\n",
        "            return None\n",
        "             \n",
        "        else:\n",
        "            return self.head.data\n",
        "     \n",
        "    # Case(d) Display elements of stack   \n",
        "    def display(self):\n",
        "         \n",
        "        iternode = self.head\n",
        "        if self.isempty():\n",
        "            print(\"Stack Underflow\")\n",
        "         \n",
        "        else:\n",
        "             \n",
        "            while(iternode != None):\n",
        "                 \n",
        "                print(iternode.data,\"->\",end = \" \")\n",
        "                iternode = iternode.next\n",
        "            return\n",
        "    def __del__(self):\n",
        "      print(\"Destructor called\")\n",
        "\n",
        "# Driver code\n",
        "MyStack = Stack()\n",
        " \n",
        "MyStack.push(11)\n",
        "MyStack.push(22)\n",
        "MyStack.push(33)\n",
        "MyStack.push(44)\n",
        " \n",
        "# Display stack elements\n",
        "MyStack.display()\n",
        " \n",
        "# Print top element of stack\n",
        "print(\"\\nTop element is \",MyStack.peek())\n",
        " \n",
        "# Delete top elements of stack\n",
        "MyStack.pop()\n",
        "MyStack.pop()\n",
        " \n",
        "# Display stack elements\n",
        "MyStack.display()\n",
        " \n",
        "# Print top element of stack\n",
        "print(\"\\nTop element is \", MyStack.peek())\n",
        "del MyStack"
      ],
      "execution_count": 23,
      "outputs": [
        {
          "output_type": "stream",
          "name": "stdout",
          "text": [
            "44 -> 33 -> 22 -> 11 -> \n",
            "Top element is  44\n",
            "22 -> 11 -> \n",
            "Top element is  22\n",
            "Destructor called\n"
          ]
        }
      ]
    },
    {
      "cell_type": "code",
      "metadata": {
        "colab": {
          "base_uri": "https://localhost:8080/"
        },
        "id": "FmzEuudl1FvW",
        "outputId": "10f59267-7da3-4645-f746-b061801efe60"
      },
      "source": [
        "class Rectangle:\n",
        "  def __init__(self):\n",
        "    self.l = 10\n",
        "    self.b = 3\n",
        "    #Default Constructor\n",
        "  def def_rectangle(self):\n",
        "    print(f\"Area = {self.l * self.b}\")\n",
        "    #Parametrized Constructor\n",
        "  def para_rectangle(self, l, b):\n",
        "    print(f\"Area = {l*b}\")\n",
        "r1 = Rectangle()\n",
        "r1.def_rectangle()\n",
        "r2 = Rectangle()\n",
        "r2.para_rectangle(1,2)"
      ],
      "execution_count": 15,
      "outputs": [
        {
          "output_type": "stream",
          "name": "stdout",
          "text": [
            "Area = 30\n",
            "Area = 2\n"
          ]
        }
      ]
    },
    {
      "cell_type": "code",
      "metadata": {
        "colab": {
          "base_uri": "https://localhost:8080/"
        },
        "id": "bJGMlRPF7Tzh",
        "outputId": "72fe7381-202d-4c72-cd31-a7e75026b355"
      },
      "source": [
        "class Queue(object):\n",
        "  #constructor\n",
        "    def __init__(self, size):\n",
        "        self.queue = []\n",
        "        self.size = size\n",
        "\n",
        "    def __str__(self):\n",
        "        myString = ' '.join(str(i) for i in self.queue)\n",
        "        return myString\n",
        "\n",
        "    #adding elements(enqueue)\n",
        "    def enqueue(self, item):\n",
        "        \" This function adds an item to the rear end of the queue \"\n",
        "        if(self.isFull() != True):\n",
        "            self.queue.insert(0, item)\n",
        "        else:\n",
        "            print('Queue is Full!')\n",
        "\n",
        "   #removing elements(dequeue)\n",
        "    def dequeue(self):\n",
        "        \" This function removes an item from the front end of the queue \"\n",
        "        if(self.isEmpty() != True):\n",
        "            return self.queue.pop()\n",
        "        else:\n",
        "            print('Queue is Empty!')\n",
        "\n",
        "      # to check if queue is empty\n",
        "    def isEmpty(self):\n",
        "        \" Queue is empty \"\n",
        "        return self.queue == []\n",
        "\n",
        "      # to check if queue is full\n",
        "    def isFull(self):\n",
        "        \" Queue is full \"\n",
        "        return len(self.queue) == self.size\n",
        "\n",
        "#defining a queue of size 10\n",
        "    myQueue = Queue(10)\n",
        "    myQueue.enqueue(4)\n",
        "    myQueue.enqueue(5)\n",
        "    myQueue.enqueue(6)\n",
        "    \n",
        "    print(myQueue)\n",
        "    \n",
        "    myQueue.enqueue(1)\n",
        "    myQueue.enqueue(2)\n",
        "    myQueue.enqueue(3)\n",
        "    \n",
        "    print(myQueue)\n",
        "    \n",
        "    myQueue.dequeue()\n",
        "    \n",
        "    print(myQueue)"
      ],
      "execution_count": 22,
      "outputs": [
        {
          "output_type": "stream",
          "name": "stdout",
          "text": [
            "6 5 4\n",
            "3 2 1 6 5 4\n",
            "3 2 1 6 5\n"
          ]
        }
      ]
    }
  ]
}